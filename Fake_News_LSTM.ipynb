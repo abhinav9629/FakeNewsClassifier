{
  "nbformat": 4,
  "nbformat_minor": 0,
  "metadata": {
    "colab": {
      "name": "Fake News LSTM.ipynb",
      "provenance": [],
      "authorship_tag": "ABX9TyNBtpT05jnDUXVjxFMl2vm2",
      "include_colab_link": true
    },
    "kernelspec": {
      "name": "python3",
      "display_name": "Python 3"
    },
    "language_info": {
      "name": "python"
    }
  },
  "cells": [
    {
      "cell_type": "markdown",
      "metadata": {
        "id": "view-in-github",
        "colab_type": "text"
      },
      "source": [
        "<a href=\"https://colab.research.google.com/github/abhinav9629/FakeNewsClassifier/blob/main/Fake_News_LSTM.ipynb\" target=\"_parent\"><img src=\"https://colab.research.google.com/assets/colab-badge.svg\" alt=\"Open In Colab\"/></a>"
      ]
    },
    {
      "cell_type": "code",
      "metadata": {
        "colab": {
          "base_uri": "https://localhost:8080/"
        },
        "id": "x0PmDFQ4jrv7",
        "outputId": "72d74939-638f-4850-e2da-981daf572808"
      },
      "source": [
        "from google.colab import drive\n",
        "drive.mount('/content/drive')"
      ],
      "execution_count": 1,
      "outputs": [
        {
          "output_type": "stream",
          "text": [
            "Mounted at /content/drive\n"
          ],
          "name": "stdout"
        }
      ]
    },
    {
      "cell_type": "code",
      "metadata": {
        "colab": {
          "base_uri": "https://localhost:8080/"
        },
        "id": "NvclVKkoj3la",
        "outputId": "467d3b2b-7277-4406-a25c-b20343595347"
      },
      "source": [
        "import tensorflow.keras as keras\n",
        "import numpy as np\n",
        "import pandas as pd\n",
        "import nltk \n",
        "import re\n",
        "from nltk.corpus import stopwords\n",
        "from nltk.stem.porter import PorterStemmer\n",
        "from tensorflow.keras.preprocessing.text import one_hot\n",
        "from tensorflow.keras.preprocessing.sequence import pad_sequences\n",
        "from sklearn.model_selection import train_test_split\n",
        "nltk.download('stopwords')"
      ],
      "execution_count": 48,
      "outputs": [
        {
          "output_type": "stream",
          "text": [
            "[nltk_data] Downloading package stopwords to /root/nltk_data...\n",
            "[nltk_data]   Package stopwords is already up-to-date!\n"
          ],
          "name": "stdout"
        },
        {
          "output_type": "execute_result",
          "data": {
            "text/plain": [
              "True"
            ]
          },
          "metadata": {
            "tags": []
          },
          "execution_count": 48
        }
      ]
    },
    {
      "cell_type": "code",
      "metadata": {
        "id": "NTXJpKw0kMWW"
      },
      "source": [
        "data = pd.read_csv('/content/drive/MyDrive/DATASETS/NEWS/train.csv')"
      ],
      "execution_count": 18,
      "outputs": []
    },
    {
      "cell_type": "code",
      "metadata": {
        "colab": {
          "base_uri": "https://localhost:8080/",
          "height": 206
        },
        "id": "gcLm_eRokXFr",
        "outputId": "8ba23f41-9f29-409c-96e2-3a720533d456"
      },
      "source": [
        "data.head(10)"
      ],
      "execution_count": 19,
      "outputs": [
        {
          "output_type": "execute_result",
          "data": {
            "text/html": [
              "<div>\n",
              "<style scoped>\n",
              "    .dataframe tbody tr th:only-of-type {\n",
              "        vertical-align: middle;\n",
              "    }\n",
              "\n",
              "    .dataframe tbody tr th {\n",
              "        vertical-align: top;\n",
              "    }\n",
              "\n",
              "    .dataframe thead th {\n",
              "        text-align: right;\n",
              "    }\n",
              "</style>\n",
              "<table border=\"1\" class=\"dataframe\">\n",
              "  <thead>\n",
              "    <tr style=\"text-align: right;\">\n",
              "      <th></th>\n",
              "      <th>id</th>\n",
              "      <th>title</th>\n",
              "      <th>author</th>\n",
              "      <th>text</th>\n",
              "      <th>label</th>\n",
              "    </tr>\n",
              "  </thead>\n",
              "  <tbody>\n",
              "    <tr>\n",
              "      <th>0</th>\n",
              "      <td>0</td>\n",
              "      <td>House Dem Aide: We Didn’t Even See Comey’s Let...</td>\n",
              "      <td>Darrell Lucus</td>\n",
              "      <td>House Dem Aide: We Didn’t Even See Comey’s Let...</td>\n",
              "      <td>1</td>\n",
              "    </tr>\n",
              "    <tr>\n",
              "      <th>1</th>\n",
              "      <td>1</td>\n",
              "      <td>FLYNN: Hillary Clinton, Big Woman on Campus - ...</td>\n",
              "      <td>Daniel J. Flynn</td>\n",
              "      <td>Ever get the feeling your life circles the rou...</td>\n",
              "      <td>0</td>\n",
              "    </tr>\n",
              "    <tr>\n",
              "      <th>2</th>\n",
              "      <td>2</td>\n",
              "      <td>Why the Truth Might Get You Fired</td>\n",
              "      <td>Consortiumnews.com</td>\n",
              "      <td>Why the Truth Might Get You Fired October 29, ...</td>\n",
              "      <td>1</td>\n",
              "    </tr>\n",
              "    <tr>\n",
              "      <th>3</th>\n",
              "      <td>3</td>\n",
              "      <td>15 Civilians Killed In Single US Airstrike Hav...</td>\n",
              "      <td>Jessica Purkiss</td>\n",
              "      <td>Videos 15 Civilians Killed In Single US Airstr...</td>\n",
              "      <td>1</td>\n",
              "    </tr>\n",
              "    <tr>\n",
              "      <th>4</th>\n",
              "      <td>4</td>\n",
              "      <td>Iranian woman jailed for fictional unpublished...</td>\n",
              "      <td>Howard Portnoy</td>\n",
              "      <td>Print \\nAn Iranian woman has been sentenced to...</td>\n",
              "      <td>1</td>\n",
              "    </tr>\n",
              "  </tbody>\n",
              "</table>\n",
              "</div>"
            ],
            "text/plain": [
              "   id  ... label\n",
              "0   0  ...     1\n",
              "1   1  ...     0\n",
              "2   2  ...     1\n",
              "3   3  ...     1\n",
              "4   4  ...     1\n",
              "\n",
              "[5 rows x 5 columns]"
            ]
          },
          "metadata": {
            "tags": []
          },
          "execution_count": 19
        }
      ]
    },
    {
      "cell_type": "code",
      "metadata": {
        "id": "HMzQJbc3kyal"
      },
      "source": [
        "data = data[['text','label']]"
      ],
      "execution_count": 20,
      "outputs": []
    },
    {
      "cell_type": "code",
      "metadata": {
        "id": "LucltlgOkYl4"
      },
      "source": [
        "data = data.dropna()\n",
        "data.reset_index(inplace=True)"
      ],
      "execution_count": 22,
      "outputs": []
    },
    {
      "cell_type": "code",
      "metadata": {
        "id": "Ab4kr-Sbkhk1"
      },
      "source": [
        "X = data['text']\n",
        "Y = data['label']"
      ],
      "execution_count": 23,
      "outputs": []
    },
    {
      "cell_type": "code",
      "metadata": {
        "id": "tI8zql-ClASh"
      },
      "source": [
        "vocab_size = 5000\n",
        "stemmer = PorterStemmer()"
      ],
      "execution_count": 31,
      "outputs": []
    },
    {
      "cell_type": "code",
      "metadata": {
        "id": "e8eZa-aclKns"
      },
      "source": [
        "corpus = []\n",
        "for i in range(len(data['text'])):\n",
        "  text = re.sub('[a-zA-Z]',' ',data['text'][i])\n",
        "  text = text.lower()\n",
        "  text = text.split()\n",
        "  text = [stemmer.stem(word) for word in text  if not word in stopwords.words('english')]\n",
        "  text = \" \".join(text)\n",
        "  corpus.append(text)\n",
        "\n"
      ],
      "execution_count": 34,
      "outputs": []
    },
    {
      "cell_type": "code",
      "metadata": {
        "id": "r_ZPJSP5l3UG"
      },
      "source": [
        "one_hot_vector = [one_hot(words,vocab_size) for words in corpus]"
      ],
      "execution_count": 36,
      "outputs": []
    },
    {
      "cell_type": "code",
      "metadata": {
        "id": "znzHlIWBl4SD"
      },
      "source": [
        "sent_len = 100"
      ],
      "execution_count": 41,
      "outputs": []
    },
    {
      "cell_type": "code",
      "metadata": {
        "id": "8FaQoIe2pPqI"
      },
      "source": [
        "embedded_vectors = pad_sequences(one_hot_vector,maxlen=sent_len) "
      ],
      "execution_count": 42,
      "outputs": []
    },
    {
      "cell_type": "code",
      "metadata": {
        "id": "dAnqJHGnrikV"
      },
      "source": [
        "X = np.array(embedded_vectors)\n",
        "Y = np.array(Y)"
      ],
      "execution_count": 47,
      "outputs": []
    },
    {
      "cell_type": "code",
      "metadata": {
        "id": "_A_ElK5trrb8"
      },
      "source": [
        "X_train,X_test,Y_train,Y_test = train_test_split(X,Y,test_size = 0.25)"
      ],
      "execution_count": 49,
      "outputs": []
    },
    {
      "cell_type": "code",
      "metadata": {
        "id": "4N-Y5MG6p23l"
      },
      "source": [
        "embedding_features = 50"
      ],
      "execution_count": 50,
      "outputs": []
    },
    {
      "cell_type": "code",
      "metadata": {
        "colab": {
          "base_uri": "https://localhost:8080/"
        },
        "id": "iOuJ4sR2p7JB",
        "outputId": "020d9892-858c-483f-9b3d-870a851ee1ef"
      },
      "source": [
        "model = keras.Sequential([\n",
        "    keras.layers.Embedding(vocab_size,embedding_features,input_length=sent_len),\n",
        "    keras.layers.Dropout(0.3),\n",
        "    keras.layers.LSTM(100),\n",
        "    keras.layers.Dropout(0.3),\n",
        "    keras.layers.Dense(1,activation='sigmoid')\n",
        "])\n",
        "model.summary()"
      ],
      "execution_count": 69,
      "outputs": [
        {
          "output_type": "stream",
          "text": [
            "Model: \"sequential_5\"\n",
            "_________________________________________________________________\n",
            "Layer (type)                 Output Shape              Param #   \n",
            "=================================================================\n",
            "embedding_5 (Embedding)      (None, 100, 50)           250000    \n",
            "_________________________________________________________________\n",
            "dropout_6 (Dropout)          (None, 100, 50)           0         \n",
            "_________________________________________________________________\n",
            "lstm_5 (LSTM)                (None, 100)               60400     \n",
            "_________________________________________________________________\n",
            "dropout_7 (Dropout)          (None, 100)               0         \n",
            "_________________________________________________________________\n",
            "dense_5 (Dense)              (None, 1)                 101       \n",
            "=================================================================\n",
            "Total params: 310,501\n",
            "Trainable params: 310,501\n",
            "Non-trainable params: 0\n",
            "_________________________________________________________________\n"
          ],
          "name": "stdout"
        }
      ]
    },
    {
      "cell_type": "code",
      "metadata": {
        "id": "VBr6dLnXrBNe"
      },
      "source": [
        "optimiser = keras.optimizers.Adam(learning_rate=0.0001)\n",
        "model.compile(optimizer=optimiser,loss=\"binary_crossentropy\",metrics=[\"accuracy\"])"
      ],
      "execution_count": 70,
      "outputs": []
    },
    {
      "cell_type": "code",
      "metadata": {
        "colab": {
          "base_uri": "https://localhost:8080/"
        },
        "id": "eTk5WkTfrQjU",
        "outputId": "fbeeba3a-d4e1-45b1-affa-2c5b963017b1"
      },
      "source": [
        "model.fit(X_train,Y_train,validation_data=(X_test,Y_test),epochs=20,batch_size=32)"
      ],
      "execution_count": 71,
      "outputs": [
        {
          "output_type": "stream",
          "text": [
            "Epoch 1/20\n",
            "487/487 [==============================] - 35s 69ms/step - loss: 0.5374 - accuracy: 0.7402 - val_loss: 0.4232 - val_accuracy: 0.8045\n",
            "Epoch 2/20\n",
            "487/487 [==============================] - 33s 68ms/step - loss: 0.3542 - accuracy: 0.8521 - val_loss: 0.3197 - val_accuracy: 0.8729\n",
            "Epoch 3/20\n",
            "487/487 [==============================] - 33s 68ms/step - loss: 0.3089 - accuracy: 0.8769 - val_loss: 0.2984 - val_accuracy: 0.8865\n",
            "Epoch 4/20\n",
            "487/487 [==============================] - 33s 68ms/step - loss: 0.2885 - accuracy: 0.8829 - val_loss: 0.2828 - val_accuracy: 0.8863\n",
            "Epoch 5/20\n",
            "487/487 [==============================] - 33s 68ms/step - loss: 0.2737 - accuracy: 0.8906 - val_loss: 0.2703 - val_accuracy: 0.8946\n",
            "Epoch 6/20\n",
            "487/487 [==============================] - 33s 68ms/step - loss: 0.2640 - accuracy: 0.8950 - val_loss: 0.2629 - val_accuracy: 0.8950\n",
            "Epoch 7/20\n",
            "487/487 [==============================] - 33s 68ms/step - loss: 0.2572 - accuracy: 0.8963 - val_loss: 0.2552 - val_accuracy: 0.8981\n",
            "Epoch 8/20\n",
            "487/487 [==============================] - 33s 68ms/step - loss: 0.2523 - accuracy: 0.8989 - val_loss: 0.2525 - val_accuracy: 0.9012\n",
            "Epoch 9/20\n",
            "487/487 [==============================] - 33s 68ms/step - loss: 0.2456 - accuracy: 0.9021 - val_loss: 0.2526 - val_accuracy: 0.9000\n",
            "Epoch 10/20\n",
            "487/487 [==============================] - 33s 69ms/step - loss: 0.2394 - accuracy: 0.9028 - val_loss: 0.2451 - val_accuracy: 0.9031\n",
            "Epoch 11/20\n",
            "487/487 [==============================] - 33s 68ms/step - loss: 0.2356 - accuracy: 0.9057 - val_loss: 0.2424 - val_accuracy: 0.9046\n",
            "Epoch 12/20\n",
            "487/487 [==============================] - 33s 69ms/step - loss: 0.2283 - accuracy: 0.9082 - val_loss: 0.2447 - val_accuracy: 0.9012\n",
            "Epoch 13/20\n",
            "487/487 [==============================] - 33s 68ms/step - loss: 0.2258 - accuracy: 0.9113 - val_loss: 0.2451 - val_accuracy: 0.9041\n",
            "Epoch 14/20\n",
            "487/487 [==============================] - 33s 68ms/step - loss: 0.2231 - accuracy: 0.9098 - val_loss: 0.2418 - val_accuracy: 0.9071\n",
            "Epoch 15/20\n",
            "487/487 [==============================] - 33s 68ms/step - loss: 0.2190 - accuracy: 0.9130 - val_loss: 0.2407 - val_accuracy: 0.9031\n",
            "Epoch 16/20\n",
            "487/487 [==============================] - 33s 68ms/step - loss: 0.2196 - accuracy: 0.9132 - val_loss: 0.2406 - val_accuracy: 0.9046\n",
            "Epoch 17/20\n",
            "487/487 [==============================] - 33s 68ms/step - loss: 0.2149 - accuracy: 0.9141 - val_loss: 0.2368 - val_accuracy: 0.9075\n",
            "Epoch 18/20\n",
            "487/487 [==============================] - 33s 67ms/step - loss: 0.2135 - accuracy: 0.9137 - val_loss: 0.2320 - val_accuracy: 0.9104\n",
            "Epoch 19/20\n",
            "487/487 [==============================] - 33s 68ms/step - loss: 0.2103 - accuracy: 0.9155 - val_loss: 0.2375 - val_accuracy: 0.9093\n",
            "Epoch 20/20\n",
            "487/487 [==============================] - 33s 68ms/step - loss: 0.2103 - accuracy: 0.9167 - val_loss: 0.2324 - val_accuracy: 0.9071\n"
          ],
          "name": "stdout"
        },
        {
          "output_type": "execute_result",
          "data": {
            "text/plain": [
              "<tensorflow.python.keras.callbacks.History at 0x7fd06ede3310>"
            ]
          },
          "metadata": {
            "tags": []
          },
          "execution_count": 71
        }
      ]
    },
    {
      "cell_type": "code",
      "metadata": {
        "id": "1AzDaKwOsMGM"
      },
      "source": [
        ""
      ],
      "execution_count": null,
      "outputs": []
    }
  ]
}